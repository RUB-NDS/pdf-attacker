{
 "cells": [
  {
   "cell_type": "markdown",
   "metadata": {},
   "source": [
    "# Configuration Parameters"
   ]
  },
  {
   "cell_type": "code",
   "execution_count": 12,
   "metadata": {},
   "outputs": [],
   "source": [
    "from fpdf import FPDF\n",
    "from wand.image import Image\n",
    "from wand.color import Color\n",
    "filename_visible = \"pdf/visible.pdf\"\n",
    "filname_unsigned = \"pdf/attack/hidden/unsigned.pdf\""
   ]
  },
  {
   "cell_type": "code",
   "execution_count": 21,
   "metadata": {
    "tags": []
   },
   "outputs": [
    {
     "output_type": "execute_result",
     "data": {
      "text/plain": "''"
     },
     "metadata": {},
     "execution_count": 21
    }
   ],
   "source": [
    "pdf = FPDF()\n",
    "pdf.add_page()\n",
    "# Setup hidden Content\n",
    "pdf.set_font('Arial', 'B', 24)\n",
    "pdf.cell(20, 30, 'You are fired!')\n",
    "# Setup visible Content\n",
    "imagename = filename_visible.replace(\".pdf\", \".png\")\n",
    "def pdf_to_image(pdfname, imagename):\n",
    "    with Image(filename=pdfname, resolution=300) as img:\n",
    "        with Image(width=img.width, height=img.height, background=Color(\"white\")) as bg:\n",
    "            bg.composite(img,0,0)\n",
    "            bg.save(filename=imagename)\n",
    "\n",
    "pdf_to_image(pdfname=filename_visible, imagename=imagename)\n",
    "pdf.image(imagename,0,0,210) # Fullpage A4\n",
    "# Save unsigned PDF\n",
    "pdf.output(filname_unsigned, 'F')"
   ]
  },
  {
   "cell_type": "code",
   "execution_count": null,
   "metadata": {},
   "outputs": [],
   "source": []
  }
 ],
 "metadata": {
  "language_info": {
   "codemirror_mode": {
    "name": "ipython",
    "version": 3
   },
   "file_extension": ".py",
   "mimetype": "text/x-python",
   "name": "python",
   "nbconvert_exporter": "python",
   "pygments_lexer": "ipython3",
   "version": "3.7.6-final"
  },
  "orig_nbformat": 2,
  "kernelspec": {
   "name": "python37664bitvenvvenv7e678ea2db6d417993bfb88a2efb13b1",
   "display_name": "Python 3.7.6 64-bit ('.venv': venv)"
  }
 },
 "nbformat": 4,
 "nbformat_minor": 2
}