{
 "cells": [
  {
   "cell_type": "markdown",
   "metadata": {},
   "source": [
    "# Simple PDF Output:\n",
    "`output`:\n",
    "- I or D: write the document to sys.stdout. This is the default if no file name is given.\n",
    "- F: save to a local file with the given name (may include a path). This is the default if a file name is given.\n",
    "- S: return the document as a byte string. (Python3: Unicode string)\n",
    "\n",
    "[More Examples](https://github.com/reingart/pyfpdf/blob/master/docs/Tutorial.md)\n"
   ]
  },
  {
   "cell_type": "code",
   "execution_count": 1,
   "metadata": {
    "tags": []
   },
   "outputs": [
    {
     "output_type": "stream",
     "name": "stdout",
     "text": "b\"%PDF-1.3\\n3 0 obj\\n<</Type /Page\\n/Parent 1 0 R\\n/Resources 2 0 R\\n/Contents 4 0 R>>\\nendobj\\n4 0 obj\\n<</Filter /FlateDecode /Length 92>>\\nstream\\nx\\x9c3R\\xf0\\xe22\\xd035W(\\xe7r\\nQ\\xd0w3T04\\xd330P\\x08ISp\\r\\x01\\t\\x19\\x1b\\xea\\x19Z*\\x98[\\x9a\\x80\\x14\\x85\\xa4(h\\x04g\\xa6\\xe7)\\x94d\\xa4*\\xa4\\xe4'\\x97\\xe6\\xa6\\xe6\\x95(\\x94\\xe4+\\xa4\\xa7\\x96\\x80\\xc5\\x8aR\\xcb\\x13\\x8bR\\x145\\x15B\\xb2@\\xfa\\x01*\\xa1\\x19\\x15\\nendstream\\nendobj\\n1 0 obj\\n<</Type /Pages\\n/Kids [3 0 R ]\\n/Count 1\\n/MediaBox [0 0 595.28 841.89]\\n>>\\nendobj\\n5 0 obj\\n<</Type /Font\\n/BaseFont /Helvetica-Bold\\n/Subtype /Type1\\n/Encoding /WinAnsiEncoding\\n>>\\nendobj\\n2 0 obj\\n<<\\n/ProcSet [/PDF /Text /ImageB /ImageC /ImageI]\\n/Font <<\\n/F1 5 0 R\\n>>\\n/XObject <<\\n>>\\n>>\\nendobj\\n6 0 obj\\n<<\\n/Producer (PyFPDF 1.7.2 http://pyfpdf.googlecode.com/)\\n/CreationDate (D:20200618175847)\\n>>\\nendobj\\n7 0 obj\\n<<\\n/Type /Catalog\\n/Pages 1 0 R\\n/OpenAction [3 0 R /FitH null]\\n/PageLayout /OneColumn\\n>>\\nendobj\\nxref\\n0 8\\n0000000000 65535 f \\n0000000248 00000 n \\n0000000436 00000 n \\n0000000009 00000 n \\n0000000087 00000 n \\n0000000335 00000 n \\n0000000540 00000 n \\n0000000649 00000 n \\ntrailer\\n<<\\n/Size 8\\n/Root 7 0 R\\n/Info 6 0 R\\n>>\\nstartxref\\n752\\n%%EOF\\n\"\n"
    }
   ],
   "source": [
    "from fpdf import FPDF\n",
    "filename = \"unsigned.pdf\"\n",
    "pdf = FPDF()\n",
    "pdf.add_page()\n",
    "pdf.set_font('Arial', 'B', 16)\n",
    "pdf.cell(40, 10, 'Sign the document to get the reward!')\n",
    "pdf.output(name=filename)\n",
    "b = pdf.output(dest='S').encode('latin-1')\n",
    "print(b)"
   ]
  },
  {
   "cell_type": "markdown",
   "metadata": {},
   "source": [
    "# Signing a PDF\n",
    "[Source](https://github.com/m32/endesive/blob/master/examples/pdf-sign-cms.py)"
   ]
  },
  {
   "cell_type": "code",
   "execution_count": 35,
   "metadata": {
    "tags": []
   },
   "outputs": [],
   "source": [
    "import sys\n",
    "import datetime\n",
    "from cryptography.hazmat import backends\n",
    "from cryptography.hazmat.primitives.serialization import pkcs12\n",
    "\n",
    "from endesive.pdf import cms\n",
    "\n",
    "date = datetime.datetime.utcnow() - datetime.timedelta(hours=12)\n",
    "date = date.strftime(\"D:%Y%m%d%H%M%S+00'00'\")\n",
    "dct = {\n",
    "    \"aligned\": 0,\n",
    "    \"sigflags\": 3,\n",
    "    \"sigflagsft\": 132,\n",
    "    \"sigpage\": 0,\n",
    "    \"sigbutton\": True,\n",
    "    \"sigfield\": \"Signature1\",\n",
    "    \"sigandcertify\": True,\n",
    "    \"signaturebox\": (470, 840, 570, 640),\n",
    "    \"signature\": \"I tottaly Agree\",\n",
    "#        \"signature_img\": \"signature_test.png\",\n",
    "    \"contact\": \"certifier\",\n",
    "    \"location\": \"AoE\",\n",
    "    \"signingdate\": date,\n",
    "    \"reason\": \"No reason given\",\n",
    "    \"password\": \"1234\",\n",
    "}\n",
    "with open(\"demo2_user1.p12\", \"rb\") as fp:\n",
    "    p12 = pkcs12.load_key_and_certificates(\n",
    "        fp.read(), b\"1234\", backends.default_backend()\n",
    "    )\n",
    "\n",
    "datau = open(filename, \"rb\").read()\n",
    "datas = cms.sign(datau, dct, p12[0], p12[1], p12[2], \"sha256\")\n",
    "filename_signed = filename.replace(\".pdf\", \"-signed-cms.pdf\")\n",
    "with open(filename_signed, \"wb\") as fp:\n",
    "    fp.write(datau)\n",
    "    fp.write(datas)\n",
    "#print(datas)"
   ]
  },
  {
   "cell_type": "code",
   "execution_count": 33,
   "metadata": {
    "tags": []
   },
   "outputs": [
    {
     "output_type": "stream",
     "name": "stdout",
     "text": "/P 3 0 R\n/\n"
    }
   ],
   "source": [
    "from pdfmanipulation import *\n",
    "asStr = getObject(datas, \"8 0\")[0][0].decode()\n",
    "pStart = asStr.find(\"/P\")\n",
    "print(asStr[pStart:pStart+10])"
   ]
  },
  {
   "cell_type": "code",
   "execution_count": null,
   "metadata": {},
   "outputs": [],
   "source": []
  }
 ],
 "metadata": {
  "language_info": {
   "codemirror_mode": {
    "name": "ipython",
    "version": 3
   },
   "file_extension": ".py",
   "mimetype": "text/x-python",
   "name": "python",
   "nbconvert_exporter": "python",
   "pygments_lexer": "ipython3",
   "version": "3.7.6-final"
  },
  "orig_nbformat": 2,
  "kernelspec": {
   "name": "python37664bitfe90d4eaa55243b5abd9b46cdf7df159",
   "display_name": "Python 3.7.6 64-bit"
  }
 },
 "nbformat": 4,
 "nbformat_minor": 2
}